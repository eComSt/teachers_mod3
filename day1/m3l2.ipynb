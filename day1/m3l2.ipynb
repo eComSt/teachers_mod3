{
 "cells": [
  {
   "cell_type": "code",
   "execution_count": 27,
   "metadata": {},
   "outputs": [
    {
     "name": "stdout",
     "output_type": "stream",
     "text": [
      "Working __new__ method for class <class '__main__.Car'>\n",
      "Car: color = Белый, model = Camry, speed = 100\n",
      "{'color': 'Белый', 'model': 'Camry', 'speed': 100}\n"
     ]
    }
   ],
   "source": [
    "class Car:\n",
    "    def __new__(cls, *args, **kwargs):\n",
    "        print(f\"Working __new__ method for class {cls}\")\n",
    "        return super().__new__(cls)\n",
    "    # инициализатор класса\n",
    "    def __init__(self, color, model, speed):\n",
    "        self.color = color  # цвет\n",
    "        self.model = model  # модель\n",
    "        self.speed = speed  # скорость\n",
    "    def __str__(self):\n",
    "        return f'Car: color = {self.color}, model = {self.model}, speed = {self.speed}'\n",
    "    def __repr__(self):\n",
    "        return f'Car({self.color}, {self.model}, {self.speed})'\n",
    "\n",
    "# создаем объект класса Car \n",
    "my_car = Car('Белый', 'Camry', speed = 100)\n",
    "print(my_car)           # выводим адрес объекта в терминал\n",
    "print(my_car.__dict__)  # получаем локальные свойства объекта"
   ]
  },
  {
   "cell_type": "code",
   "execution_count": 19,
   "metadata": {},
   "outputs": [
    {
     "name": "stdout",
     "output_type": "stream",
     "text": [
      "<__main__.Captain object at 0x109dfbfd0>\n",
      "<__main__.Captain object at 0x109dfbfd0>\n",
      "Misha\n",
      "Misha\n"
     ]
    }
   ],
   "source": [
    "class Captain:\n",
    "    __cap = None\n",
    "    def __new__(cls, *args, **kwargs):\n",
    "        if cls.__cap is None:\n",
    "            cls.__cap = super().__new__(cls)\n",
    "        return cls.__cap    \n",
    "    def __init__(self, name, age, height, weight):\n",
    "        self.name = name\n",
    "        self.age = age\n",
    "        self.height = height\n",
    "        self.weight = weight\n",
    "cap = Captain(name = \"Dima\", age = 36, height = 183, weight = 85)\n",
    "new_cap =  Captain(name = \"Misha\", age = 26, height = 193, weight = 80)\n",
    "print(cap)\n",
    "print(new_cap)\n",
    "print(new_cap.name)\n",
    "print(cap.name)"
   ]
  },
  {
   "cell_type": "code",
   "execution_count": 24,
   "metadata": {},
   "outputs": [],
   "source": [
    "class MoneyBox:\n",
    "    def __init__(self, money = 0):\n",
    "        self.__money = money\n",
    "    def __repr__(self):\n",
    "        return f'MoneyBox({self.__money})'\n",
    "    def __str__(self):\n",
    "        return f'{self.__money}'\n",
    "    def __add__(self, other):\n",
    "        if isinstance(other,(int,float)):\n",
    "            return MoneyBox(self.__money+other)\n",
    "        elif isinstance(other, MoneyBox):\n",
    "            return MoneyBox(self.__money+other.__money)\n",
    "        else:\n",
    "            print(\"Incorrect add\")\n",
    "            return self\n",
    "    def __radd__(self, other): # зеркальный метод для __add__()\n",
    "            # вызываем метод __add__() с переставленными операндами\n",
    "        return self.__add__(other)\n",
    "    def __len__(self):\n",
    "        return(len(str(self.__money)))\n",
    "    def __bool__(self):\n",
    "        return self.__money != 0\n",
    "        "
   ]
  },
  {
   "cell_type": "code",
   "execution_count": 27,
   "metadata": {},
   "outputs": [
    {
     "name": "stdout",
     "output_type": "stream",
     "text": [
      "The box is not empty\n"
     ]
    }
   ],
   "source": [
    "box = MoneyBox()\n",
    "box = box+1\n",
    "if box:\n",
    "    print(\"The box is not empty\")\n",
    "else:\n",
    "    print(\"The box is empty\")"
   ]
  }
 ],
 "metadata": {
  "kernelspec": {
   "display_name": "Python 3",
   "language": "python",
   "name": "python3"
  },
  "language_info": {
   "codemirror_mode": {
    "name": "ipython",
    "version": 3
   },
   "file_extension": ".py",
   "mimetype": "text/x-python",
   "name": "python",
   "nbconvert_exporter": "python",
   "pygments_lexer": "ipython3",
   "version": "3.11.1"
  }
 },
 "nbformat": 4,
 "nbformat_minor": 2
}
