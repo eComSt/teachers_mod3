{
 "cells": [
  {
   "cell_type": "code",
   "execution_count": 16,
   "metadata": {},
   "outputs": [],
   "source": [
    "class Car:\n",
    "    def __init__(self, color, model, speed = 0):\n",
    "        self.color = color\n",
    "        self._speed = speed\n",
    "        self.__model = model\n",
    "    def show_info(self):\n",
    "        print(f\"Color: {self.color}\")\n",
    "        print(f\"Speed: {self._speed}\")\n",
    "        print(f\"Model: {self.__model}\")\n",
    "    def get_model(self):\n",
    "        return self.__model\n",
    "    def get_speed(self):\n",
    "        return self._speed\n",
    "    def set_speed(self, speed):\n",
    "        if speed>=0:\n",
    "            self._speed = speed\n",
    "        else:\n",
    "            print(\"Speed cannot be negative\")\n",
    "my_car = Car(color=\"red\", speed =10, model=\"Toyota\")"
   ]
  },
  {
   "cell_type": "code",
   "execution_count": 4,
   "metadata": {},
   "outputs": [
    {
     "name": "stdout",
     "output_type": "stream",
     "text": [
      "Color: red\n",
      "Speed: 10\n",
      "Model: Toyota\n"
     ]
    }
   ],
   "source": [
    "my_car = Car(color=\"red\", speed =10, model=\"Toyota\")\n",
    "my_car.show_info()"
   ]
  },
  {
   "cell_type": "code",
   "execution_count": 5,
   "metadata": {},
   "outputs": [
    {
     "name": "stdout",
     "output_type": "stream",
     "text": [
      "red\n"
     ]
    }
   ],
   "source": [
    "print(my_car.color)"
   ]
  },
  {
   "cell_type": "code",
   "execution_count": 6,
   "metadata": {},
   "outputs": [
    {
     "name": "stdout",
     "output_type": "stream",
     "text": [
      "10\n"
     ]
    }
   ],
   "source": [
    "print(my_car._speed)"
   ]
  },
  {
   "cell_type": "code",
   "execution_count": 9,
   "metadata": {},
   "outputs": [
    {
     "name": "stdout",
     "output_type": "stream",
     "text": [
      "BMW\n"
     ]
    }
   ],
   "source": [
    "my_car._Car__model = \"BMW\"\n",
    "print(my_car._Car__model)"
   ]
  },
  {
   "cell_type": "code",
   "execution_count": 17,
   "metadata": {},
   "outputs": [
    {
     "name": "stdout",
     "output_type": "stream",
     "text": [
      "Toyota\n",
      "Speed cannot be negative\n",
      "10\n"
     ]
    }
   ],
   "source": [
    "print(my_car.get_model())\n",
    "my_car.set_speed(-100)\n",
    "print(my_car.get_speed())"
   ]
  }
 ],
 "metadata": {
  "kernelspec": {
   "display_name": "Python 3",
   "language": "python",
   "name": "python3"
  },
  "language_info": {
   "codemirror_mode": {
    "name": "ipython",
    "version": 3
   },
   "file_extension": ".py",
   "mimetype": "text/x-python",
   "name": "python",
   "nbconvert_exporter": "python",
   "pygments_lexer": "ipython3",
   "version": "3.11.1"
  }
 },
 "nbformat": 4,
 "nbformat_minor": 2
}
