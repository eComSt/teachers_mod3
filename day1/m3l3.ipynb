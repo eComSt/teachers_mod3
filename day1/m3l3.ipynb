{
 "cells": [
  {
   "cell_type": "code",
   "execution_count": 21,
   "metadata": {},
   "outputs": [
    {
     "name": "stdout",
     "output_type": "stream",
     "text": [
      "I'm coding\n",
      "I'm walking\n",
      "{'name': 'Vova', 'age': 25, 'language': 'Python'}\n",
      "True\n",
      "True\n",
      "<class '__main__.Programmer'>\n",
      "<class '__main__.BaseHuman'>\n",
      "<class 'object'>\n",
      "True\n"
     ]
    }
   ],
   "source": [
    "class BaseHuman:\n",
    "    def __init__(self, name, age):\n",
    "        self.name = name\n",
    "        self.age = age\n",
    "    def introduse(self):\n",
    "        print(f'Привет, меня зовут {self.name} и мне {self.age} лет')\n",
    "\n",
    "class Programmer(BaseHuman):\n",
    "    def __init__(self, name, age, language):\n",
    "        super().__init__(name, age)\n",
    "        self.language = language\n",
    "    def coding(self):\n",
    "        print(\"I'm coding\")\n",
    "        \n",
    "class BackEndDev(Programmer):\n",
    "    def walking(self):\n",
    "        print(\"I'm walking\")\n",
    "\n",
    "human = BaseHuman(name = \"Misha\",age = 36)\n",
    "proger = Programmer(name = \"Dima\", age = 25, language = \"Python\")\n",
    "dev = BackEndDev(name = \"Vova\", age = 25, language = \"Python\")\n",
    "proger.coding()\n",
    "dev.walking()\n",
    "print(dev.__dict__)\n",
    "print(issubclass(BackEndDev, Programmer))\n",
    "print(issubclass(BackEndDev, BaseHuman))\n",
    "print(BackEndDev.__base__)\n",
    "print(Programmer.__base__)\n",
    "print(BaseHuman.__base__)\n",
    "print(issubclass(BackEndDev, object))\n",
    "\n",
    "# human.coding()"
   ]
  },
  {
   "cell_type": "code",
   "execution_count": 25,
   "metadata": {},
   "outputs": [
    {
     "name": "stdout",
     "output_type": "stream",
     "text": [
      "True\n"
     ]
    }
   ],
   "source": [
    "print(isinstance(dev,object))"
   ]
  },
  {
   "cell_type": "code",
   "execution_count": 6,
   "metadata": {},
   "outputs": [
    {
     "data": {
      "text/plain": [
       "{'name': 'Misha', 'age': 36}"
      ]
     },
     "execution_count": 6,
     "metadata": {},
     "output_type": "execute_result"
    }
   ],
   "source": [
    "human.__dict__"
   ]
  }
 ],
 "metadata": {
  "kernelspec": {
   "display_name": "Python 3",
   "language": "python",
   "name": "python3"
  },
  "language_info": {
   "codemirror_mode": {
    "name": "ipython",
    "version": 3
   },
   "file_extension": ".py",
   "mimetype": "text/x-python",
   "name": "python",
   "nbconvert_exporter": "python",
   "pygments_lexer": "ipython3",
   "version": "3.11.1"
  }
 },
 "nbformat": 4,
 "nbformat_minor": 2
}
